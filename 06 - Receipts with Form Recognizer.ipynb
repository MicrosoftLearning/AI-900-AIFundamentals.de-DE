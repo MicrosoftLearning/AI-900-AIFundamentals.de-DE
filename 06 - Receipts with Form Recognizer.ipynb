{
  "cells": [
    {
      "cell_type": "markdown",
      "source": [
        "# Analysieren von Kassenbelegen mit der Formularerkennung\r\n",
        "\r\n",
        "![Ein Roboter, der einen Kassenbeleg hält](./images/receipt_analysis.jpg)\r\n",
        "\r\n",
        "Maschinelles Sehen gehört zur Künstlichen Intelligenz (KI) und wird häufig eingesetzt, um mit optischer Zeichenerkennung (Optical Character Recognition, OCR) gedruckten oder handschriftlichen Text zu lesen. Dazu wird der Text aus den Dokumenten oft in ein Format extrahiert, das zur weiteren Verarbeitung oder Analyse verwendet werden kann.\r\n",
        "\r\n",
        "In komplexeren OCR-Szenarien können Informationen aus Formularen wie etwa Bestellungen oder Rechnungen extrahiert werden, wobei mithilfe einer semantischen Analyse die Bedeutung der Felder interpretiert werden kann. Die **Formularerkennung** wurde speziell für diese Art von KI-Problemen entwickelt.\r\n",
        "\r\n",
        "## Anzeigen eines Kassenbelegs\r\n",
        "\r\n",
        "In diesem Beispiel verwenden Sie das integrierte Modell der Formularerkennung zur Analyse von Kassenbelegen.\r\n",
        "\r\n",
        "Klicken Sie links neben der Zelle auf die Schaltfläche **Zelle ausführen** (&#9655;), um die Zelle auszuführen und ein Beispiel für einen Kassenbeleg anzuzeigen, den Sie mit der Formularerkennung analysieren."
      ],
      "metadata": {}
    },
    {
      "cell_type": "code",
      "source": [
        "import matplotlib.pyplot as plt\n",
        "from PIL import Image\n",
        "import os\n",
        "%matplotlib inline\n",
        "\n",
        "\n",
        "# Load and display a receipt image\r\n",
        "fig = plt.figure(figsize=(6, 6))\n",
        "image_path = os.path.join('data', 'form-receipt', 'receipt.jpg')\n",
        "img = Image.open(image_path)\n",
        "plt.axis('off')\n",
        "plt.imshow(img)"
      ],
      "outputs": [],
      "execution_count": null,
      "metadata": {
        "gather": {
          "logged": 1599694427893
        }
      }
    },
    {
      "cell_type": "markdown",
      "source": [
        "## Erstellen einer Formularerkennungsressource\r\n",
        "\r\n",
        "Erstellen Sie zunächst eine Formularerkennungsressource in Ihrem Azure-Abonnement:\r\n",
        "\r\n",
        "1. Öffnen Sie das Azure-Portal unter „https://portal.azure.com“ in einer neuen Browserregisterkarte, und melden Sie sich mit Ihrem Microsoft-Konto an.\r\n",
        "2. Klicken Sie auf **+ Ressource erstellen**, und suchen Sie nach *Formularerkennung*.\r\n",
        "3. Wählen Sie in der Liste der Dienste **Formularerkennung** aus.\r\n",
        "4. Wählen Sie im Blatt **Formularerkennung** die Option **Erstellen** aus.\r\n",
        "5. Geben Sie auf dem Blatt **Erstellen** die folgenden Informationen ein, und wählen Sie dann **Erstellen** aus.\r\n",
        "   * **Name**: Ein eindeutiger Name für Ihren Dienst\r\n",
        "   * **Abonnement**: Ihr Azure-Abonnement\r\n",
        "   * **Region**: Eine beliebige verfügbare Region\r\n",
        "   * **Tarif**: F0\r\n",
        "   * **Ressourcengruppe**: Die zuvor verwendete vorhandene Ressourcengruppe\r\n",
        "   * **Ich bestätige, dass ich den folgenden Hinweis gelesen und verstanden habe**: Ausgewählt\r\n",
        "6. Warten Sie, bis der Dienst erstellt ist.\r\n",
        "7. Öffnen Sie Ihren neu erstellten Formularerkennungsdienst im Azure-Portal, kopieren Sie auf der Seite **Schlüssel und Endpunkt** den **Schlüssel1** und **Endpunkt** für Ihre Ressource, und fügen Sie die Werte in die folgende Codezelle anstelle von **YOUR_FORM_KEY** und **YOUR_FORM_ENDPOINT** ein."
      ],
      "metadata": {}
    },
    {
      "cell_type": "code",
      "source": [
        "form_key = 'YOUR_FORM_KEY'\n",
        "form_endpoint = 'YOUR_FORM_ENDPOINT'\n",
        "\n",
        "print('Ready to use form recognizer at {} using key {}'.format(form_endpoint, form_key))"
      ],
      "outputs": [],
      "execution_count": null,
      "metadata": {
        "gather": {
          "logged": 1599694505850
        }
      }
    },
    {
      "cell_type": "markdown",
      "source": [
        "## Analysieren eines Kassenbelegs\r\n",
        "\r\n",
        "Jetzt können Sie die Formularerkennung verwenden, um einen Kassenbeleg zu analysieren."
      ],
      "metadata": {}
    },
    {
      "cell_type": "code",
      "source": [
        "import os\n",
        "from azure.ai.formrecognizer import FormRecognizerClient\n",
        "from azure.core.credentials import AzureKeyCredential\n",
        "\n",
        "# Create a client for the form recognizer service\r\n",
        "form_recognizer_client = FormRecognizerClient(endpoint=form_endpoint, credential=AzureKeyCredential(form_key))\n",
        "\n",
        "try:\n",
        "    print(\"Analyzing receipt...\")\n",
        "    # Get the receipt image file\n",
        "    image_path = os.path.join('data', 'form-receipt', 'receipt.jpg')\n",
        "\n",
        "    # Submit the file data to form recognizer\n",
        "    with open(image_path, \"rb\") as f:\n",
        "        analyze_receipt = form_recognizer_client.begin_recognize_receipts(receipt=f)\n",
        "    \n",
        "    # Get the results\n",
        "    receipt_data = analyze_receipt.result()\n",
        "\n",
        "    # Print the extracted data for the first (and only) receipt\n",
        "    receipt = receipt_data[0]\n",
        "    receipt_type = receipt.fields.get(\"ReceiptType\")\n",
        "    if receipt_type:\n",
        "        print(\"Receipt Type: {}\".format(receipt_type.value))\n",
        "    merchant_address = receipt.fields.get(\"MerchantAddress\")\n",
        "    if merchant_address:\n",
        "        print(\"Merchant Address: {}\".format(merchant_address.value))\n",
        "    merchant_phone = receipt.fields.get(\"MerchantPhoneNumber\")\n",
        "    if merchant_phone:\n",
        "        print(\"Merchant Phone: {}\".format(merchant_phone.value))\n",
        "    transaction_date = receipt.fields.get(\"TransactionDate\")\n",
        "    if transaction_date:\n",
        "        print(\"Transaction Date: {}\".format(transaction_date.value))\n",
        "    print(\"Receipt items:\")\n",
        "    items = receipt.fields.get(\"Items\")\n",
        "    if items:\n",
        "        for idx, item in enumerate(receipt.fields.get(\"Items\").value):\n",
        "            print(\"\\tItem #{}\".format(idx+1))\n",
        "            item_name = item.value.get(\"Name\")\n",
        "            if item_name:\n",
        "                print(\"\\t - Name: {}\".format(item_name.value))\n",
        "            item_total_price = item.value.get(\"TotalPrice\")\n",
        "            if item_total_price:\n",
        "                print(\"\\t - Price: {}\".format(item_total_price.value))\n",
        "    subtotal = receipt.fields.get(\"Subtotal\")\n",
        "    if subtotal:\n",
        "        print(\"Subtotal: {} \".format(subtotal.value))\n",
        "    tax = receipt.fields.get(\"Tax\")\n",
        "    if tax:\n",
        "        print(\"Tax: {}\".format(tax.value))\n",
        "    total = receipt.fields.get(\"Total\")\n",
        "    if total:\n",
        "        print(\"Total: {}\".format(total.value))\n",
        "\n",
        "except Exception as ex:\n",
        "    print('Error:', ex)\n"
      ],
      "outputs": [],
      "execution_count": null,
      "metadata": {
        "gather": {
          "logged": 1599694525404
        }
      }
    },
    {
      "cell_type": "markdown",
      "source": [
        "Mit der Formularerkennung können Sie außerdem Daten im Formular interpretieren, um beispielsweise die Adresse und Telefonnummer des Händlers, das Datum der Transaktion sowie die einzelnen Positionen, Zwischensummen, Steuern und Endbeträge zu identifizieren.\r\n",
        "\r\n",
        "## Weitere Informationen\r\n",
        "\r\n",
        "Weitere Informationen zur Formularerkennung finden Sie in der [Dokumentation zur Formularerkennung](https://docs.microsoft.com/de-de/azure/cognitive-services/form-recognizer/index)."
      ],
      "metadata": {}
    }
  ],
  "metadata": {
    "language_info": {
      "name": "python",
      "version": "3.6.9",
      "mimetype": "text/x-python",
      "codemirror_mode": {
        "name": "ipython",
        "version": 3
      },
      "pygments_lexer": "ipython3",
      "nbconvert_exporter": "python",
      "file_extension": ".py"
    },
    "kernelspec": {
      "name": "python3-azureml",
      "language": "python",
      "display_name": "Python 3.6 - AzureML"
    },
    "kernel_info": {
      "name": "python3-azureml"
    },
    "nteract": {
      "version": "nteract-front-end@1.0.0"
    }
  },
  "nbformat": 4,
  "nbformat_minor": 2
}