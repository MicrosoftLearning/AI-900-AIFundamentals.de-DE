{
 "cells": [
  {
   "cell_type": "markdown",
   "metadata": {},
   "source": [
    "# Erkennen und Analysieren von Gesichtern\n",
    "\n",
    "Lösungen für maschinelles Sehen erfordern häufig eine Lösung mit Künstlicher Intelligenz (KI), um menschliche Gesichter erkennen, analysieren oder identifizieren zu können. Angenommen, das Einzelhandelsunternehmen Northwind Traders möchte einen „Smart Store“ implementieren, der von KI überwacht wird, um zu identifizieren, welche Kunden Unterstützung benötigen, und Mitarbeiter zu diesen Kunden zu schicken. Dieses Ziel kann mit der Erkennung und Analyse von Gesichtern erreicht werden. Dazu müssen Gesichter in den Bildern erkannt und ihre Merkmale analysiert werden.\n",
    "\n",
    "![Ein Roboter, der ein Gesicht analysiert](./images/face_analysis.jpg)\n",
    "\n",
    "## Verwenden des Cognitive Service „Gesichtserkennung“, um Gesichter zu erkennen\n",
    "\n",
    "Angenommen, das Smart-Store-System für Northwind Traders soll Kunden erkennen und ihre Gesichtsmerkmale analysieren können. In Microsoft Azure können Sie zu diesem Zweck die **Gesichtserkennung** verwenden, die zu den Azure Cognitive Services gehört.\n",
    "\n",
    "### Erstellen einer Cognitive Services-Ressource\n",
    "\n",
    "Erstellen Sie zunächst eine **Cognitive Services**-Ressource in Ihrem Azure-Abonnement.\n",
    "\n",
    "> **Hinweis**: Falls Sie bereits eine Cognitive Services-Ressource haben, können Sie die entsprechende **Schnellstart**-Seite im Azure-Portal öffnen und den Schlüssel und den Endpunkt der Ressource unten in die Zelle kopieren. Führen Sie andernfalls die folgenden Schritte aus, um eine Ressource zu erstellen.\n",
    "\n",
    "1. Öffnen Sie das Azure-Portal unter „https://portal.azure.com“ in einer neuen Browserregisterkarte, und melden Sie sich mit Ihrem Microsoft-Konto an.\n",
    "2. Klicken Sie auf die Schaltfläche **&#65291;Ressource erstellen**, suchen Sie nach *Cognitive Services*, und erstellen Sie eine **Cognitive Services**-Ressource mit den folgenden Einstellungen:\n",
    "    - **Abonnement**: *Ihr Azure-Abonnement*\n",
    "    - **Ressourcengruppe**: *Wählen Sie eine Ressourcengruppe aus, oder erstellen Sie eine Ressourcengruppe mit einem eindeutigen Namen.*\n",
    "    - **Region**: *Wählen Sie eine verfügbare Region aus*:\n",
    "    - **Name**: *Geben Sie einen eindeutigen Namen ein.*\n",
    "    - **Tarif**: S0\n",
    "    - **Ich bestätige, dass ich die Hinweise gelesen und verstanden habe**: Ausgewählt\n",
    "3. Warten Sie, bis die Bereitstellung abgeschlossen ist. Öffnen Sie anschließend Ihre Cognitive Services-Ressource, und klicken Sie auf der Seite **Übersicht** auf den Link zur Schlüsselverwaltung für den Dienst. Sie benötigen den Endpunkt und Schlüssel, um sich aus Clientanwendungen heraus mit Ihrer Cognitive Services-Ressource zu verbinden.\n",
    "\n",
    "### Abrufen des Schlüssels und Endpunkts für Ihre Cognitive Services-Ressource\n",
    "\n",
    "Um Ihre Cognitive Services-Ressource verwenden zu können, benötigen Clientanwendungen deren Endpunkt und Authentifizierungsschlüssel:\n",
    "\n",
    "1. Kopieren Sie im Azure-Portal auf der Seite **Schlüssel und Endpunkt** für Ihre Cognitive Service-Ressource den **Schlüssel1** für Ihre Ressource, und fügen Sie ihn im unten stehenden Code anstelle von **YOUR_COG_KEY** ein.\n",
    "\n",
    "2. Kopieren Sie den **Endpunkt** für Ihre Ressource, und fügen Sie ihn unten im Code anstelle von **YOUR_COG_ENDPOINT** ein.\n",
    "\n",
    "3. Führen Sie die folgende Codezelle aus, indem Sie oben links in der Zelle auf die Schaltfläche „Zelle ausführen“ <span>&#9655;</span> klicken."
   ]
  },
  {
   "cell_type": "code",
   "execution_count": null,
   "metadata": {
    "gather": {
     "logged": 1599693964655
    }
   },
   "outputs": [],
   "source": [
    "cog_key = 'YOUR_COG_KEY'\n",
    "cog_endpoint = 'YOUR_COG_ENDPOINT'\n",
    "\n",
    "print('Ready to use cognitive services at {} using key {}'.format(cog_endpoint, cog_key))"
   ]
  },
  {
   "cell_type": "markdown",
   "metadata": {},
   "source": [
    "Jetzt haben Sie eine Cognitive Services-Ressource, mit der Sie den Gesichtserkennungsdienst verwenden können, um menschliche Gesichter im Geschäft zu erkennen.\n",
    "\n",
    "Führen Sie die unten stehende Codezelle aus, um ein Beispiel zu sehen."
   ]
  },
  {
   "cell_type": "code",
   "execution_count": null,
   "metadata": {
    "gather": {
     "logged": 1599693970079
    }
   },
   "outputs": [],
   "source": [
    "from azure.cognitiveservices.vision.face import FaceClient\n",
    "from msrest.authentication import CognitiveServicesCredentials\n",
    "from python_code import faces\n",
    "import os\n",
    "%matplotlib inline\n",
    "\n",
    "# Create a face detection client.\n",
    "face_client = FaceClient(cog_endpoint, CognitiveServicesCredentials(cog_key))\n",
    "\n",
    "# Open an image\n",
    "image_path = os.path.join('data', 'face', 'store_cam2.jpg')\n",
    "image_stream = open(image_path, \"rb\")\n",
    "\n",
    "# Detect faces\n",
    "detected_faces = face_client.face.detect_with_stream(image=image_stream)\n",
    "\n",
    "# Display the faces (code in python_code/faces.py)\n",
    "faces.show_faces(image_path, detected_faces)"
   ]
  },
  {
   "cell_type": "markdown",
   "metadata": {},
   "source": [
    "Jedem erkannten Gesicht wird eine eindeutige ID zugeordnet, damit Ihre Anwendung die einzelnen erkannten Gesichter identifizieren kann.\n",
    "\n",
    "Führen Sie die folgende Zelle aus, um die IDs für weitere Gesichter von Käufern anzuzeigen."
   ]
  },
  {
   "cell_type": "code",
   "execution_count": null,
   "metadata": {
    "gather": {
     "logged": 1599693970447
    }
   },
   "outputs": [],
   "source": [
    "# Open an image\n",
    "image_path = os.path.join('data', 'face', 'store_cam3.jpg')\n",
    "image_stream = open(image_path, \"rb\")\n",
    "\n",
    "# Detect faces\n",
    "detected_faces = face_client.face.detect_with_stream(image=image_stream)\n",
    "\n",
    "# Display the faces (code in python_code/faces.py)\n",
    "faces.show_faces(image_path, detected_faces, show_id=True)"
   ]
  },
  {
   "cell_type": "markdown",
   "metadata": {},
   "source": [
    "## Analysieren von Gesichtsmerkmalen\n",
    "\n",
    "Mit der Gesichtserkennung können Sie aber nicht nur Gesichter erkennen. Sie können auch Gesichtsmerkmale und Gesichtsausdrücke analysieren, um Alter und Gefühlszustand zu erkennen. Führen Sie den folgenden Code aus, um die Gesichtsmerkmale eines Käufers zu analysieren."
   ]
  },
  {
   "cell_type": "code",
   "execution_count": null,
   "metadata": {
    "gather": {
     "logged": 1599693971321
    }
   },
   "outputs": [],
   "source": [
    "# Open an image\n",
    "image_path = os.path.join('data', 'face', 'store_cam1.jpg')\n",
    "image_stream = open(image_path, \"rb\")\n",
    "\n",
    "# Detect faces and specified facial attributes\n",
    "attributes = ['age', 'emotion']\n",
    "detected_faces = face_client.face.detect_with_stream(image=image_stream, return_face_attributes=attributes)\n",
    "\n",
    "# Display the faces and attributes (code in python_code/faces.py)\n",
    "faces.show_face_attributes(image_path, detected_faces)"
   ]
  },
  {
   "cell_type": "markdown",
   "metadata": {},
   "source": [
    "Gemäß der Emotionsbewertung des im Bild gezeigten Kunden scheint dieser mit seinem Einkaufserlebnis recht zufrieden zu sein.\n",
    "\n",
    "## Suchen ähnlicher Gesichter \n",
    "\n",
    "Mit den Gesichts-IDs für die erkannten Bilder können Sie erkannte Gesichter einzeln identifizieren. Sie können diese IDs verwenden, um ein erkanntes Gesicht mit zuvor erkannten Gesichtern zu vergleichen und Gesichter mit ähnlichen Merkmalen zu suchen.\n",
    "\n",
    "Führen Sie zum Beispiel die folgende Zelle aus, um den Käufer in einem Bild mit Kunden in einem anderen Bild zu vergleichen und ein ähnliches Gesicht zu finden."
   ]
  },
  {
   "cell_type": "code",
   "execution_count": null,
   "metadata": {
    "gather": {
     "logged": 1599693972555
    }
   },
   "outputs": [],
   "source": [
    "# Get the ID of the first face in image 1\n",
    "image_1_path = os.path.join('data', 'face', 'store_cam3.jpg')\n",
    "image_1_stream = open(image_1_path, \"rb\")\n",
    "image_1_faces = face_client.face.detect_with_stream(image=image_1_stream)\n",
    "face_1 = image_1_faces[0]\n",
    "\n",
    "# Get the face IDs in a second image\n",
    "image_2_path = os.path.join('data', 'face', 'store_cam2.jpg')\n",
    "image_2_stream = open(image_2_path, \"rb\")\n",
    "image_2_faces = face_client.face.detect_with_stream(image=image_2_stream)\n",
    "image_2_face_ids = list(map(lambda face: face.face_id, image_2_faces))\n",
    "\n",
    "# Find faces in image 2 that are similar to the one in image 1\n",
    "similar_faces = face_client.face.find_similar(face_id=face_1.face_id, face_ids=image_2_face_ids)\n",
    "\n",
    "# Show the face in image 1, and similar faces in image 2(code in python_code/face.py)\n",
    "faces.show_similar_faces(image_1_path, face_1, image_2_path, image_2_faces, similar_faces)"
   ]
  },
  {
   "cell_type": "markdown",
   "metadata": {},
   "source": [
    "## Erkennen von Gesichtern\n",
    "\n",
    "Bisher haben wir Ihnen gezeigt, wie Sie mit der Gesichtserkennung Gesichter und deren Merkmale erkennen sowie Gesichter suchen können, die einander ähneln. Als nächsten Schritt können Sie eine *Gesichtserkennungslösung* implementieren, in der Sie die Gesichtserkennung dahingehend trainieren, das Gesicht einer bestimmten Person zu erkennen. Dies ist für verschiedene Szenarien hilfreich, etwa um Fotos von Freunden in einer Social-Media-Anwendung automatisch zu markieren oder um die Gesichtserkennung für eine biometrische Identitätsüberprüfung zu nutzen.\n",
    "\n",
    "Gehen wir hierzu davon aus, dass Northwind Traders mit einem Gesichtserkennungssystem sicherstellen möchte, dass nur autorisierte Mitarbeiter aus der IT-Abteilung auf gesicherte Systeme zugreifen können.\n",
    "\n",
    "Zunächst erstellen wir eine *Personengruppe* für die autorisierten Mitarbeiter."
   ]
  },
  {
   "cell_type": "code",
   "execution_count": null,
   "metadata": {
    "gather": {
     "logged": 1599693973492
    }
   },
   "outputs": [],
   "source": [
    "group_id = 'employee_group_id'\n",
    "try:\n",
    "    # Delete group if it already exists\n",
    "    face_client.person_group.delete(group_id)\n",
    "except Exception as ex:\n",
    "    print(ex.message)\n",
    "finally:\n",
    "    face_client.person_group.create(group_id, 'employees')\n",
    "    print ('Group created!')"
   ]
  },
  {
   "cell_type": "markdown",
   "metadata": {},
   "source": [
    "Nachdem wir die *Personengruppe* erstellt haben, können wir für jeden Mitarbeiter, der zur Gruppe gehören soll, eine *Person* hinzufügen und mehrere Fotos für jede Person registrieren, damit die Gesichtserkennung lernen kann, die Gesichtsmerkmale der einzelnen Personen zu erkennen. Idealerweise sollten wir dazu jeweils Bilder der Personen in unterschiedlichen Haltungen und mit unterschiedlichen Gesichtsausdrücken verwenden.\n",
    "\n",
    "Wir fügen einen Mitarbeiter namens „Wendell“ hinzu und registrieren drei Fotos von ihm."
   ]
  },
  {
   "cell_type": "code",
   "execution_count": null,
   "metadata": {
    "gather": {
     "logged": 1599693976898
    }
   },
   "outputs": [],
   "source": [
    "import matplotlib.pyplot as plt\n",
    "from PIL import Image\n",
    "import os\n",
    "%matplotlib inline\n",
    "\n",
    "# Add a person (Wendell) to the group\n",
    "wendell = face_client.person_group_person.create(group_id, 'Wendell')\n",
    "\n",
    "# Get photo's of Wendell\n",
    "folder = os.path.join('data', 'face', 'wendell')\n",
    "wendell_pics = os.listdir(folder)\n",
    "\n",
    "# Register the photos\n",
    "i = 0\n",
    "fig = plt.figure(figsize=(8, 8))\n",
    "for pic in wendell_pics:\n",
    "    # Add each photo to person in person group\n",
    "    img_path = os.path.join(folder, pic)\n",
    "    img_stream = open(img_path, \"rb\")\n",
    "    face_client.person_group_person.add_face_from_stream(group_id, wendell.person_id, img_stream)\n",
    "\n",
    "    # Display each image\n",
    "    img = Image.open(img_path)\n",
    "    i +=1\n",
    "    a=fig.add_subplot(1,len(wendell_pics), i)\n",
    "    a.axis('off')\n",
    "    imgplot = plt.imshow(img)\n",
    "plt.show()"
   ]
  },
  {
   "cell_type": "markdown",
   "metadata": {},
   "source": [
    "Nachdem wir die Person hinzugefügt und die Fotos registriert haben, können wir die Gesichtserkennung für die jeweilige Person trainieren."
   ]
  },
  {
   "cell_type": "code",
   "execution_count": null,
   "metadata": {
    "gather": {
     "logged": 1599693977046
    }
   },
   "outputs": [],
   "source": [
    "face_client.person_group.train(group_id)\n",
    "print('Trained!')"
   ]
  },
  {
   "cell_type": "markdown",
   "metadata": {},
   "source": [
    "Nachdem Sie das Modell trainiert haben, können Sie es verwenden, um die erkannten Gesichter in einem Bild zu identifizieren."
   ]
  },
  {
   "cell_type": "code",
   "execution_count": null,
   "metadata": {
    "gather": {
     "logged": 1599693994820
    }
   },
   "outputs": [],
   "source": [
    "# Get the face IDs in a second image\n",
    "image_path = os.path.join('data', 'face', 'employees.jpg')\n",
    "image_stream = open(image_path, \"rb\")\n",
    "image_faces = face_client.face.detect_with_stream(image=image_stream)\n",
    "image_face_ids = list(map(lambda face: face.face_id, image_faces))\n",
    "\n",
    "# Get recognized face names\n",
    "face_names = {}\n",
    "recognized_faces = face_client.face.identify(image_face_ids, group_id)\n",
    "for face in recognized_faces:\n",
    "    person_name = face_client.person_group_person.get(group_id, face.candidates[0].person_id).name\n",
    "    face_names[face.face_id] = person_name\n",
    "\n",
    "# show recognized faces\n",
    "faces.show_recognized_faces(image_path, image_faces, face_names)\n",
    "\n"
   ]
  },
  {
   "cell_type": "markdown",
   "metadata": {},
   "source": [
    "## Weitere Informationen\n",
    "\n",
    "Weitere Informationen zum Cognitive Service „Gesichtserkennung“ finden Sie in der [Dokumentation für die Gesichtserkennung](https://docs.microsoft.com/azure/cognitive-services/face/).\n"
   ]
  }
 ],
 "metadata": {
  "kernel_info": {
   "name": "python3-azureml"
  },
  "kernelspec": {
   "display_name": "Python 3 (ipykernel)",
   "language": "python",
   "name": "python3"
  },
  "language_info": {
   "codemirror_mode": {
    "name": "ipython",
    "version": 3
   },
   "file_extension": ".py",
   "mimetype": "text/x-python",
   "name": "python",
   "nbconvert_exporter": "python",
   "pygments_lexer": "ipython3",
   "version": "3.10.0"
  },
  "nteract": {
   "version": "nteract-front-end@1.0.0"
  }
 },
 "nbformat": 4,
 "nbformat_minor": 2
}