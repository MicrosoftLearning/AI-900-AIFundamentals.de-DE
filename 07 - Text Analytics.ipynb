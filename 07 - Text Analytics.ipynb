{
  "cells": [
    {
      "cell_type": "markdown",
      "source": [
        "# Textanalyse\r\n",
        "\r\n",
        "Die Verarbeitung natürlicher Sprache (Natural Language Processing oder NLP) ist ein Bereich der künstlichen Intelligenz (KI), der sich mit geschriebener und gesprochener Sprache befasst. Mit NLP können Sie Lösungen erstellen, die eine semantische Bedeutung aus Text oder Sprache extrahieren oder aussagekräftige Antworten in natürlicher Sprache formulieren.\r\n",
        "\r\n",
        "Die *Cognitive Services* von Microsoft Azure umfassen den *Textanalysedienst*, der einige NLP-Funktionen vorkonfiguriert bereitstellt, beispielsweise zum Identifizieren von Schlüsselbegriffen in einem Text und zur Klassifizierung von Texten nach deren Stimmung.\r\n",
        "\r\n",
        "![Ein Roboter liest ein Notizbuch](./images/NLP.jpg)\r\n",
        "\r\n",
        "Angenommen, das fiktive Unternehmen *Margie's Travel* bittet seine Kunden, Bewertungen für Hotelaufenthalte zu schreiben. Der Textanalysedienst kann die Bewertungen zusammenfassen, indem er Schlüsselbegriffe extrahiert, positive und negative Bewertungen unterscheidet und den Bewertungstext nach Erwähnungen bekannter Entitäten wie etwa Orte und Personen durchsucht.\r\n",
        "\r\n",
        "## Bewertungsdokumente anzeigen\r\n",
        "\r\n",
        "Sehen Sie sich zunächst einige der Hotelbewertungen an, die von Kunden abgegeben wurden.\r\n",
        "\r\n",
        "Die Bewertungen liegen als Textdateien vor. Um sie anzuzeigen, führen Sie den folgenden Code aus, indem Sie links neben der Zelle auf die Schaltfläche **Zelle ausführen** (&#9655;) klicken."
      ],
      "metadata": {}
    },
    {
      "cell_type": "code",
      "source": [
        "import os\n",
        "\n",
        "# Read the reviews in the /data/reviews folder\r\n",
        "reviews_folder = os.path.join('data', 'text', 'reviews')\n",
        "\n",
        "# Create a collection of reviews with id (file name) and text (contents) properties\r\n",
        "reviews = []\n",
        "for file_name in os.listdir(reviews_folder):\n",
        "    review_text = open(os.path.join(reviews_folder, file_name)).read()\n",
        "    review = {\"id\": file_name, \"text\": review_text}\n",
        "    reviews.append(review)\n",
        "\n",
        "for review_num in range(len(reviews)):\n",
        "    # print the review text\n",
        "    print('{}\\n{}\\n'.format(reviews[review_num]['id'], reviews[review_num]['text']))"
      ],
      "outputs": [],
      "execution_count": null,
      "metadata": {
        "gather": {
          "logged": 1599694576263
        }
      }
    },
    {
      "cell_type": "markdown",
      "source": [
        "## Erstellen einer Cognitive Services-Ressource\r\n",
        "\r\n",
        "Sie können den Cognitive Service **Textanalyse** verwenden, um den Text in diesen Bewertungen zu analysieren. Dazu müssen Sie entweder eine **Textanalyse**- oder eine **Cognitive Services**-Ressource in Ihrem Azure-Abonnement bereitstellen. (Verwenden Sie eine Textanalyse-Ressource, falls dies der einzige Dienst ist, den Sie nutzen möchten oder falls Sie die Nutzung separat nachverfolgen möchten. Andernfalls können Sie eine Cognitive Services-Ressource verwenden, um den Textanalysedienst mit anderen Cognitive Services zu kombinieren und Entwicklern den Zugriff über eine einzige Kombination aus Endpunkt und Schlüssel zu ermöglichen.)\r\n",
        "\r\n",
        "Falls noch nicht geschehen, führen Sie die folgenden Schritte aus, um eine **Cognitive Services**-Ressource in Ihrem Azure-Abonnement zu erstellen:\r\n",
        "\r\n",
        "> **Hinweis**: Falls Sie bereits eine Cognitive Services-Ressource haben, können Sie die entsprechende **Schnellstart**-Seite im Azure-Portal öffnen und den Schlüssel und den Endpunkt der Ressource unten in die Zelle kopieren. Führen Sie andernfalls die folgenden Schritte aus, um eine Ressource zu erstellen.\r\n",
        "\r\n",
        "1. Öffnen Sie das Azure-Portal unter „https://portal.azure.com“ in einer neuen Browserregisterkarte, und melden Sie sich mit Ihrem Microsoft-Konto an.\r\n",
        "2. Klicken Sie auf die Schaltfläche **&#65291;Ressource erstellen**, suchen Sie nach *Cognitive Services*, und erstellen Sie eine **Cognitive Services**-Ressource mit den folgenden Einstellungen:\r\n",
        "    - **Abonnement**: *Ihr Azure-Abonnement*\r\n",
        "    - **Ressourcengruppe**: *Wählen Sie eine Ressourcengruppe aus, oder erstellen Sie eine Ressourcengruppe mit einem eindeutigen Namen.*\r\n",
        "    - **Region**: *Wählen Sie eine verfügbare Region aus*:\r\n",
        "    - **Name**: *Geben Sie einen eindeutigen Namen ein.*\r\n",
        "    - **Tarif**: S0\r\n",
        "    - **Ich bestätige, dass ich die Hinweise gelesen und verstanden habe**: Ausgewählt\r\n",
        "3. Warten Sie, bis die Bereitstellung abgeschlossen ist. Öffnen Sie anschließend Ihre Cognitive Services-Ressource, und klicken Sie auf der Seite **Übersicht** auf den Link zur Schlüsselverwaltung für den Dienst. Sie benötigen den Endpunkt und Schlüssel, um sich aus Clientanwendungen heraus mit Ihrer Cognitive Services-Ressource zu verbinden.\r\n",
        "\r\n",
        "### Abrufen des Schlüssels und Endpunkts für Ihre Cognitive Services-Ressource\r\n",
        "\r\n",
        "Um Ihre Cognitive Services-Ressource verwenden zu können, benötigen Clientanwendungen deren Endpunkt und Authentifizierungsschlüssel:\r\n",
        "\r\n",
        "1. Kopieren Sie im Azure-Portal auf der Seite **Schlüssel und Endpunkt** für Ihre Cognitive Service-Ressource den **Schlüssel1** für Ihre Ressource, und fügen Sie ihn im unten stehenden Code anstelle von **YOUR_COG_KEY** ein.\r\n",
        "2. Kopieren Sie den **Endpunkt** für Ihre Ressource, und fügen Sie ihn unten im Code anstelle von **YOUR_COG_ENDPOINT** ein.\r\n",
        "3. Führen Sie den Code in der folgenden Zelle aus, indem Sie auf die grüne Schaltfläche <span style=\"color:green\">&#9655;</span> klicken."
      ],
      "metadata": {}
    },
    {
      "cell_type": "code",
      "source": [
        "cog_key = 'YOUR_COG_KEY'\n",
        "cog_endpoint = 'YOUR_COG_ENDPOINT'\n",
        "\n",
        "print('Ready to use cognitive services at {} using key {}'.format(cog_endpoint, cog_key))"
      ],
      "outputs": [],
      "execution_count": null,
      "metadata": {
        "gather": {
          "logged": 1599694661070
        }
      }
    },
    {
      "cell_type": "markdown",
      "source": [
        "## Erkennen der Sprache\r\n",
        "Zunächst werden wir die Sprache identifizieren, in der die Bewertungen verfasst wurden."
      ],
      "metadata": {}
    },
    {
      "cell_type": "code",
      "source": [
        "import os\n",
        "from azure.cognitiveservices.language.textanalytics import TextAnalyticsClient\n",
        "from msrest.authentication import CognitiveServicesCredentials\n",
        "\n",
        "# Get a client for your text analytics cognitive service resource\r\n",
        "text_analytics_client = TextAnalyticsClient(endpoint=cog_endpoint,\n",
        "                                            credentials=CognitiveServicesCredentials(cog_key))\n",
        "\n",
        "# Analyze the reviews you read from the /data/reviews folder earlier\r\n",
        "language_analysis = text_analytics_client.detect_language(documents=reviews)\n",
        "\n",
        "# print detected language details for each review\r\n",
        "for review_num in range(len(reviews)):\n",
        "    # print the review id\n",
        "    print(reviews[review_num]['id'])\n",
        "\n",
        "    # Get the language details for this review\n",
        "    lang = language_analysis.documents[review_num].detected_languages[0]\n",
        "    print(' - Language: {}\\n - Code: {}\\n - Score: {}\\n'.format(lang.name, lang.iso6391_name, lang.score))\n",
        "\n",
        "    # Add the detected language code to the collection of reviews (so we can do further analysis)\n",
        "    reviews[review_num][\"language\"] = lang.iso6391_name"
      ],
      "outputs": [],
      "execution_count": null,
      "metadata": {
        "gather": {
          "logged": 1599694675019
        }
      }
    },
    {
      "cell_type": "markdown",
      "source": [
        "## Extrahieren von Schlüsselbegriffen\r\n",
        "\r\n",
        "Jetzt können Sie den Text in den Kundenbewertungen analysieren, um Schlüsselbegriffe zu identifizieren, die einen Hinweis auf die wichtigsten Themen liefern."
      ],
      "metadata": {}
    },
    {
      "cell_type": "code",
      "source": [
        "# # Use the client and reviews you created in the previous code cell to get key phrases\r\n",
        "key_phrase_analysis = text_analytics_client.key_phrases(documents=reviews)\n",
        "\n",
        "# print key phrases for each review\r\n",
        "for review_num in range(len(reviews)):\n",
        "    # print the review id\n",
        "    print(reviews[review_num]['id'])\n",
        "\n",
        "    # Get the key phrases in this review\n",
        "    print('\\nKey Phrases:')\n",
        "    key_phrases = key_phrase_analysis.documents[review_num].key_phrases\n",
        "    # Print each key phrase\n",
        "    for key_phrase in key_phrases:\n",
        "        print('\\t', key_phrase)\n",
        "    print('\\n')"
      ],
      "outputs": [],
      "execution_count": null,
      "metadata": {
        "gather": {
          "logged": 1599694682067
        }
      }
    },
    {
      "cell_type": "markdown",
      "source": [
        "Mit den Schlüsselbegriffen können Sie sich einen Überblick über die wichtigsten Themen in den einzelnen Bewertungen verschaffen. Bewertungen mit den Begriffen „hilfreiches Personal“ oder „schlechter Service“ liefern beispielsweise einen Hinweis darauf, was dem Verfasser besonders wichtig war.\r\n",
        "\r\n",
        "## Ermitteln der Stimmung\r\n",
        "\r\n",
        "Möglicherweise möchten Sie die Bewertungen anhand einer *Stimmungsbewertung* als *positiv* oder *negativ* klassifizieren. Dazu können Sie ebenfalls die Textanalyse verwenden."
      ],
      "metadata": {}
    },
    {
      "cell_type": "code",
      "source": [
        "# Use the client and reviews you created previously to get sentiment scores\r\n",
        "sentiment_analysis = text_analytics_client.sentiment(documents=reviews)\n",
        "\n",
        "# Print the results for each review\r\n",
        "for review_num in range(len(reviews)):\n",
        "\n",
        "    # Get the sentiment score for this review\n",
        "    sentiment_score = sentiment_analysis.documents[review_num].score\n",
        "\n",
        "    # classifiy 'positive' if more than 0.5, \n",
        "    if sentiment_score < 0.5:\n",
        "        sentiment = 'negative'\n",
        "    else:\n",
        "        sentiment = 'positive'\n",
        "\n",
        "    # print file name and sentiment\n",
        "    print('{} : {} ({})'.format(reviews[review_num]['id'], sentiment, sentiment_score))"
      ],
      "outputs": [],
      "execution_count": null,
      "metadata": {
        "gather": {
          "logged": 1599694685535
        }
      }
    },
    {
      "cell_type": "markdown",
      "source": [
        "## Extrahieren bekannter Entitäten\r\n",
        "\r\n",
        "*Entitäten* sind Dinge, die im Text erwähnt werden und auf bekannte Elementarten verweisen. Dabei kann es sich beispielsweise um einen Ort, eine Person oder ein Datum handeln. Angenommen, Sie interessieren sich dafür, welche Daten und Orte in den Bewertungen erwähnt werden – dann können Sie dazu den folgenden Code verwenden."
      ],
      "metadata": {}
    },
    {
      "cell_type": "code",
      "source": [
        "# Use the client and reviews you created previously to get named entities\r\n",
        "entity_analysis = text_analytics_client.entities(documents=reviews)\n",
        "\n",
        "# Print the results for each review\r\n",
        "for review_num in range(len(reviews)):\n",
        "    print(reviews[review_num]['id'])\n",
        "    # Get the named entitites in this review\n",
        "    entities = entity_analysis.documents[review_num].entities\n",
        "    for entity in entities:\n",
        "        # Only print datetime or location entitites\n",
        "        if entity.type in ['DateTime','Location']:\n",
        "            link = '(' + entity.wikipedia_url + ')' if entity.wikipedia_id is not None else ''\n",
        "            print(' - {}: {} {}'.format(entity.type, entity.name, link))"
      ],
      "outputs": [],
      "execution_count": null,
      "metadata": {
        "gather": {
          "logged": 1599694688496
        }
      }
    },
    {
      "cell_type": "markdown",
      "source": [
        "Manche Entitäten sind so bekannt, dass sie eine eigene Wikipedia-Seite haben. In diesem Fall gibt der Textanalysedienst die URL für diese Seite zurück.\r\n",
        "\r\n",
        "## Weitere Informationen\r\n",
        "\r\n",
        "Weitere Informationen zur Textanalyse finden Sie in der [Dokumentation zur Textanalyse](https://docs.microsoft.com/azure/cognitive-services/text-analytics/)."
      ],
      "metadata": {}
    }
  ],
  "metadata": {
    "language_info": {
      "name": "python",
      "version": "3.6.9",
      "mimetype": "text/x-python",
      "codemirror_mode": {
        "name": "ipython",
        "version": 3
      },
      "pygments_lexer": "ipython3",
      "nbconvert_exporter": "python",
      "file_extension": ".py"
    },
    "kernelspec": {
      "name": "python3-azureml",
      "language": "python",
      "display_name": "Python 3.6 - AzureML"
    },
    "kernel_info": {
      "name": "python3-azureml"
    },
    "nteract": {
      "version": "nteract-front-end@1.0.0"
    }
  },
  "nbformat": 4,
  "nbformat_minor": 2
}