{
  "cells": [
    {
      "cell_type": "markdown",
      "source": [
        "# Übersetzen\r\n",
        "\r\n",
        "Einer der wichtigsten Faktoren für die Entwicklung der menschlichen Zivilisation ist die Fähigkeit, miteinander zu kommunizieren. Kommunikation ist unverzichtbar für die meisten menschlichen Bestrebungen.\r\n",
        "\r\n",
        "![Ein mehrsprachiger Roboter](./images/translation.jpg)\r\n",
        "\r\n",
        "Künstliche Intelligenz (KI) kann die Kommunikation vereinfachen, indem sie Text oder gesprochene Sprache in andere Sprachen übersetzt, um Kommunikationsbarrieren zwischen Ländern und Kulturen zu überwinden.\r\n",
        "\r\n",
        "## Erstellen einer Cognitive Services-Ressource\r\n",
        "\r\n",
        "In Azure können Sie Cognitive Services verwenden, um Texte zwischen verschiedenen Sprachen zu übersetzen.\r\n",
        "\r\n",
        "Falls noch nicht geschehen, führen Sie die folgenden Schritte aus, um eine **Cognitive Services**-Ressource in Ihrem Azure-Abonnement zu erstellen:\r\n",
        "\r\n",
        "> **Hinweis**: Falls Sie bereits eine Cognitive Services-Ressource haben, können Sie die entsprechende **Schnellstart**-Seite im Azure-Portal öffnen und den Schlüssel und den Endpunkt der Ressource unten in die Zelle kopieren. Führen Sie andernfalls die folgenden Schritte aus, um eine Ressource zu erstellen.\r\n",
        "\r\n",
        "1. Öffnen Sie das Azure-Portal unter „https://portal.azure.com“ in einer neuen Browserregisterkarte, und melden Sie sich mit Ihrem Microsoft-Konto an.\r\n",
        "2. Klicken Sie auf die Schaltfläche **&#65291;Ressource erstellen**, suchen Sie nach *Cognitive Services*, und erstellen Sie eine **Cognitive Services**-Ressource mit den folgenden Einstellungen:\r\n",
        "    * **Abonnement**: *Ihr Azure-Abonnement*\r\n",
        "    * **Ressourcengruppe**: *Wählen Sie eine Ressourcengruppe aus, oder erstellen Sie eine Ressourcengruppe mit einem eindeutigen Namen.*\r\n",
        "    * **Region**: *Wählen Sie eine verfügbare Region aus*:\r\n",
        "    * **Name**: *Geben Sie einen eindeutigen Namen ein.*\r\n",
        "    * **Tarif**: S0\r\n",
        "    * **Ich bestätige, dass ich die Hinweise gelesen und verstanden habe**: Ausgewählt\r\n",
        "3. Warten Sie, bis die Bereitstellung abgeschlossen ist. Öffnen Sie anschließend Ihre Cognitive Services-Ressource, und klicken Sie auf der Seite **Übersicht** auf den Link zur Schlüsselverwaltung für den Dienst. Sie benötigen den Endpunkt und Schlüssel, um sich aus Clientanwendungen heraus mit Ihrer Cognitive Services-Ressource zu verbinden.\r\n",
        "\r\n",
        "### Abrufen des Schlüssels und des Speicherorts für Ihre Cognitive Services-Ressource\r\n",
        "\r\n",
        "Um Ihre Cognitive Services-Ressource verwenden zu können, benötigen Clientanwendungen deren Authentifizierungsschlüssel und Speicherort:\r\n",
        "\r\n",
        "1. Kopieren Sie im Azure-Portal auf der Seite **Schlüssel und Endpunkt** für Ihre Cognitive Service-Ressource den **Schlüssel1** für Ihre Ressource, und fügen Sie ihn im unten stehenden Code anstelle von **YOUR_COG_KEY** ein.\r\n",
        "2. Kopieren Sie den **Speicherort** für Ihre Ressource, und fügen Sie ihn unten im Code anstelle von **YOUR_COG_LOCATION** ein.\r\n",
        ">**Hinweis**: Bleiben Sie auf der Seite **Schlüssel und Endpunkt**, und kopieren Sie den **Speicherort** von dieser Seite (Beispiel: _westus_). Fügen Sie _KEINE_ Leerzeichen zwischen den Wörtern im Feld „Speicherort“ ein. \r\n",
        "3. Führen Sie den folgenden Code aus, indem Sie links neben der Zelle auf die Schaltfläche **Zelle ausführen** (&#9655;) klicken."
      ],
      "metadata": {}
    },
    {
      "cell_type": "code",
      "source": [
        "cog_key = 'YOUR_COG_KEY'\n",
        "cog_location = 'YOUR_COG_LOCATION'\n",
        "\n",
        "print('Ready to use cognitive services in {} using key {}'.format(cog_location, cog_key))"
      ],
      "outputs": [],
      "execution_count": null,
      "metadata": {
        "gather": {
          "logged": 1599695377020
        }
      }
    },
    {
      "cell_type": "markdown",
      "source": [
        "## Übersetzen von Text\r\n",
        "\r\n",
        "Wie der Name bereits sagt, können Sie mit dem Dienst zur **Textübersetzung** Texte von einer Sprache in andere Sprachen übersetzen.\r\n",
        "\r\n",
        "Für diesen Dienst gibt es kein Python-SDK, aber Sie können die REST-Schnittstelle verwenden, um Anforderungen per HTTP an einen Endpunkt zu senden. Dies lässt sich in Python mit der **requests**-Bibliothek relativ leicht umsetzen. Die Informationen über den zu übersetzenden Text und den resultierenden übersetzten Text werden im JSON-Format ausgetauscht.\r\n",
        "\r\n",
        "Führen Sie die folgende Zelle aus, um eine entsprechende Funktion zu erstellen, und testen Sie die Funktion anschließend mit einer einfachen Übersetzung von Englisch in Französisch."
      ],
      "metadata": {}
    },
    {
      "cell_type": "code",
      "source": [
        "# Erstellen einer Funktion, die eine REST-Anforderung an den Textübersetzungs-Dienst stellt\r\n",
        "def translate_text(cog_location, cog_key, text, to_lang='fr', from_lang='en'):\n",
        "    import requests, uuid, json\n",
        "\n",
        "    # Create the URL for the Text Translator service REST request\n",
        "    path = 'https://api.cognitive.microsofttranslator.com/translate?api-version=3.0'\n",
        "    params = '&from={}&to={}'.format(from_lang, to_lang)\n",
        "    constructed_url = path + params\n",
        "\n",
        "    # Prepare the request headers with Cognitive Services resource key and region\n",
        "    headers = {\n",
        "        'Ocp-Apim-Subscription-Key': cog_key,\n",
        "        'Ocp-Apim-Subscription-Region':cog_location,\n",
        "        'Content-type': 'application/json',\n",
        "        'X-ClientTraceId': str(uuid.uuid4())\n",
        "    }\n",
        "\n",
        "    # Add the text to be translated to the body\n",
        "    body = [{\n",
        "        'text': text\n",
        "    }]\n",
        "\n",
        "    # Get the translation\n",
        "    request = requests.post(constructed_url, headers=headers, json=body)\n",
        "    response = request.json()\n",
        "    return response[0][\"translations\"][0][\"text\"]\n",
        "\n",
        "\n",
        "# Test the function\r\n",
        "text_to_translate = \"Hello\"\n",
        "\n",
        "translation = translate_text(cog_location, cog_key, text_to_translate, to_lang='fr', from_lang='en')\n",
        "print('{} -> {}'.format(text_to_translate,translation))"
      ],
      "outputs": [],
      "execution_count": null,
      "metadata": {
        "gather": {
          "logged": 1599695393341
        }
      }
    },
    {
      "cell_type": "markdown",
      "source": [
        "Der Dienst sollte den englischen Text „Hello“ in das Französische „Bonjour“ übersetzen.\r\n",
        "\r\n",
        "Beachten Sie, dass die Sprachen mit einem standardisierten Abkürzungssystem angegeben werden. *en* steht für Englisch, und *fr* für Französisch. Mit den Abkürzungen können Sie auch einzelne Kulturen angeben. Dies ist oft hilfreich, wenn eine Sprache in unterschiedlichen geografischen Regionen eingesetzt wird, oft auch mit unterschiedlichen Schreibweisen. *en-US* steht beispielsweise für Englisch in den USA und *en-GB* für Englisch in Großbritannien.\r\n",
        "\r\n",
        "Führen Sie die folgende Zelle aus, um den Text von britischem Englisch in Italienisch zu übersetzen."
      ],
      "metadata": {}
    },
    {
      "cell_type": "code",
      "source": [
        "text_to_translate = \"Hello\"\n",
        "\n",
        "translation = translate_text(cog_location, cog_key, text_to_translate, to_lang='it-IT', from_lang='en-GB')\n",
        "print('{} -> {}'.format(text_to_translate,translation))"
      ],
      "outputs": [],
      "execution_count": null,
      "metadata": {
        "gather": {
          "logged": 1599695400335
        }
      }
    },
    {
      "cell_type": "markdown",
      "source": [
        "Probieren Sie noch eine Übersetzung aus, dieses Mal von US-Englisch in Chinesisch."
      ],
      "metadata": {}
    },
    {
      "cell_type": "code",
      "source": [
        "text_to_translate = \"Hello\"\n",
        "\n",
        "translation = translate_text(cog_location, cog_key, text_to_translate, to_lang='zh-CN', from_lang='en-US')\n",
        "print('{} -> {}'.format(text_to_translate,translation))"
      ],
      "outputs": [],
      "execution_count": null,
      "metadata": {
        "gather": {
          "logged": 1599695403076
        }
      }
    },
    {
      "cell_type": "markdown",
      "source": [
        "## Sprachübersetzung\r\n",
        "\r\n",
        "Mit dem **Speech**-Dienst können Sie gesprochene Sprache übersetzen.\r\n",
        "\r\n",
        "Führen Sie die folgende Zelle aus, um eine Funktion zu erstellen und zu testen, die das Speech-SDK verwendet, um gesprochene Sprache zu übersetzen.\r\n",
        "\r\n",
        "> **Hinweis**: Sie benötigen Lautsprecher, um die Ausgabe zu hören."
      ],
      "metadata": {}
    },
    {
      "cell_type": "code",
      "source": [
        "from playsound import playsound \n",
        "\n",
        "# Create a function to translate audio in one language to text in another\r\n",
        "def translate_speech(cog_location, cog_key, audio_file=None, to_lang='fr-FR', from_lang='en-US'):\n",
        "    from azure.cognitiveservices.speech import SpeechConfig, AudioConfig, ResultReason\n",
        "    from azure.cognitiveservices.speech.translation import SpeechTranslationConfig, TranslationRecognizer\n",
        "\n",
        "    # Configure the speech translation service\n",
        "    translation_config = SpeechTranslationConfig(subscription=cog_key, region=cog_location)\n",
        "    translation_config.speech_recognition_language = from_lang\n",
        "    translation_config.add_target_language(to_lang)\n",
        "\n",
        "    # Configure audio input\n",
        "    if audio_file is None:\n",
        "        audio_config = AudioConfig() # Use default input (microphone)\n",
        "    else:\n",
        "        audio_config = AudioConfig(filename=audio_file) # Use file input\n",
        "\n",
        "    # Create a translation recognizer and use it to translate speech input\n",
        "    recognizer = TranslationRecognizer(translation_config, audio_config)\n",
        "    result = recognizer.recognize_once()\n",
        "\n",
        "    # Did we get it?\n",
        "    translation = ''\n",
        "    speech_text = ''\n",
        "    if result.reason == ResultReason.TranslatedSpeech:\n",
        "        speech_text = result.text\n",
        "        translation =  result.translations[to_lang]\n",
        "    elif result.reason == ResultReason.RecognizedSpeech:\n",
        "        speech_text = result.text\n",
        "        translation =  'Unable to translate speech'\n",
        "    else:\n",
        "        translation = 'Unknown'\n",
        "        speech_text = 'Unknown'\n",
        "\n",
        "    # rturn the translation\n",
        "    return speech_text, translation\n",
        "    \n",
        "\n",
        "# Test the function\r\n",
        "import os\n",
        "\n",
        "file_name = 'english.wav'\n",
        "file_path = os.path.join('data', 'translation', file_name)\n",
        "speech, translated_speech = translate_speech(cog_location, cog_key, file_path, to_lang='es', from_lang='en-US')\n",
        "result = '{} -> {}'.format(speech, translated_speech)\n",
        "\n",
        "# Show translated text\r\n",
        "playsound(file_path)\n",
        "print(result)"
      ],
      "outputs": [],
      "execution_count": null,
      "metadata": {
        "gather": {
          "logged": 1599695532629
        }
      }
    },
    {
      "cell_type": "markdown",
      "source": [
        "Die Zielsprache muss mit einem Sprachcode aus zwei Buchstaben angegeben werden (z. B. *en*), und die Ausgangssprache muss mit dem Kulturhinweis angegeben werden (z. B. *en-US*).\r\n",
        "\r\n",
        "Testen Sie eine Übersetzung von Französisch in Englisch."
      ],
      "metadata": {}
    },
    {
      "cell_type": "code",
      "source": [
        "from playsound import playsound\n",
        "import os\n",
        "\n",
        "file_name = 'french.wav'\n",
        "file_path = os.path.join('data', 'translation', file_name)\n",
        "speech, translated_speech = translate_speech(cog_location, cog_key, file_path, to_lang='en', from_lang='fr-FR')\n",
        "result = '{} -> {}'.format(speech, translated_speech)\n",
        "\n",
        "# Show translated text\r\n",
        "playsound(file_path)\n",
        "print(result)"
      ],
      "outputs": [],
      "execution_count": null,
      "metadata": {
        "gather": {
          "logged": 1599695542192
        }
      }
    },
    {
      "cell_type": "markdown",
      "source": [
        "## Weitere Informationen\r\n",
        "\r\n",
        "Weitere Informationen zur [Textübersetzung](https://docs.microsoft.com/azure/cognitive-services/translator/) und zum [Übersetzen mit dem Speech-Dienst](https://docs.microsoft.com/azure/cognitive-services/speech-service/index-speech-translation) finden Sie in der Dokumentation für den Dienst."
      ],
      "metadata": {}
    }
  ],
  "metadata": {
    "language_info": {
      "name": "python",
      "version": "3.6.9",
      "mimetype": "text/x-python",
      "codemirror_mode": {
        "name": "ipython",
        "version": 3
      },
      "pygments_lexer": "ipython3",
      "nbconvert_exporter": "python",
      "file_extension": ".py"
    },
    "kernelspec": {
      "name": "python3-azureml",
      "language": "python",
      "display_name": "Python 3.6 - AzureML"
    },
    "kernel_info": {
      "name": "python3-azureml"
    },
    "nteract": {
      "version": "nteract-front-end@1.0.0"
    }
  },
  "nbformat": 4,
  "nbformat_minor": 2
}