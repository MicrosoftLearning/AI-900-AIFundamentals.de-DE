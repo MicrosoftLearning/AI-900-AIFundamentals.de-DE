{
  "cells": [
    {
      "cell_type": "markdown",
      "source": [
        "# Conversational AI\r\n",
        "\r\n",
        "Denken Sie daran, wie oft Sie über Instant Messaging, Social Media, E-Mail oder andere Technologien mit anderen Menschen kommunizieren. Für viele von uns ist dies die bevorzugte Kommunikationsform. Wenn Sie bei der Arbeit eine Frage haben, erreichen Sie Ihre Kollegen per Chatnachricht, möglicherweise sogar auf einem Mobilgerät, um ständig in Kontakt zu bleiben.\r\n",
        "\r\n",
        "![Ein Mensch und ein Roboter unterhalten sich](./images/conversational_ai.jpg)\r\n",
        "\r\n",
        "Bots sind KI-Agenten, die über diese Arten von Kanälen kommunizieren und eine natürliche Interaktion mit Softwarediensten in Form von Unterhaltungen ermöglichen.\r\n",
        "\r\n",
        "## Erstellen einer QnA Maker-Wissensdatenbank\r\n",
        "\r\n",
        "Für Kundendienstszenarien werden oft Bots erstellt, die häufig gestellte Fragen in einem Chatfenster auf einer Webseite, per E-Mail oder per Sprachschnittstelle interpretieren und beantworten können. Hinter dieser Bot-Schnittstelle befindet sich eine Wissensdatenbank mit Fragen und passenden Antworten, die der Bot durchsuchen kann, um Antworten zu finden.\r\n",
        "\r\n",
        "QnA Maker ist ein Cognitive Service in Azure, mit dem Sie mühelos eine Wissensdatenbank erstellen können, entweder durch die Eingabe von Fragen und Antworten, oder aus vorhandenen Dokumenten oder Webseiten. Anschließend verwendet der Dienst die integrierten Verarbeitungsfunktionen für natürliche Sprache, um Fragen zu interpretieren und passende Antworten zu finden.\r\n",
        "\r\n",
        "1. Öffnen Sie das QnA Maker-Portal unter „https://qnamaker.ai“ in einer neuen Browserregisterkarte. Melden Sie sich mit Ihrem Microsoft-Konto an, das mit Ihrem Azure-Abonnement verknüpft ist.\r\n",
        "2. Wählen Sie im QnA Maker-Portal die Option **Wissensdatenbank erstellen** aus.\r\n",
        "3. Wenn Sie noch keine QnA-Dienstressource erstellt haben, wählen Sie **QnA-Dienst erstellen** aus. Das Azure-Portal wird in einer neuen Registerkarte geöffnet, und Sie können einen QnA Maker-Dienst in Ihrem Abonnement erstellen. Verwenden Sie folgende Einstellungen:\r\n",
        "   \r\n",
        "   - **Abonnement**: *Ihr Azure-Abonnement*\r\n",
        "   - **Ressourcengruppe**: *Wählen Sie eine vorhandene Ressourcengruppe aus, oder erstellen Sie eine neue.*\r\n",
        "   - **Name**: *Ein eindeutiger Name für Ihre QnA-Resource*\r\n",
        "   - **Tarif**: F0\r\n",
        "   - **Azure Search-Tarif**: F\r\n",
        "   - **Azure Search-Speicherort**: *Ein beliebiger verfügbarer Speicherort*\r\n",
        "   - **App-Name**: _Identisch mit **Name** („.azurewebsites.net“ wird automatisch angefügt)_\r\n",
        "   - **Ort der Website**: _Identisch mit **Azure Search-Speicherort**_\r\n",
        "   - **App Insights**: Deaktivieren\r\n",
        "\r\n",
        "> **Hinweis**: Falls Sie bereits eine **QnA Maker**- oder **Azure Search**-Ressource mit dem Free-Tarif bereitgestellt haben, erlaubt es Ihr Kontingent unter Umständen nicht, eine weitere Ressource zu erstellen. Wählen Sie in diesem Fall einen anderen Tarif als **F0** / **F** aus.\r\n",
        "\r\n",
        "4. Warten Sie, bis die Bereitstellung des QnA-Diensts und der zugehörigen Ressourcen im Azure-Portal abgeschlossen ist.\r\n",
        "5. Kehren Sie zum QnA Maker-Portal zurück, und klicken Sie im Abschnitt **Schritt 2** auf **Aktualisieren**, um die Liste der verfügbaren QnA-Dienstressourcen zu aktualisieren.\r\n",
        "6. Verbinden Sie Ihren QnA-Dienst mit Ihrer Wissensdatenbank, indem Sie die folgenden Optionen auswählen:\r\n",
        "  - **Microsoft Azure-Verzeichnis-ID**: *Die Azure-Verzeichnis-ID für Ihr Abonnement*\r\n",
        "  - **Name des Azure-Abonnements**: *Ihr Azure-Abonnement*\r\n",
        "  - **Azure QnA-Dienst**: *Die QnA-Dienstressource, die Sie im vorherigen Schritt erstellt haben*\r\n",
        "  - **Sprache**: English\r\n",
        "\r\n",
        "### (!) Überprüfung\r\n",
        "Falls ein Hinweis angezeigt wird, dass die Rolle keine Berechtigung zum Durchführen der Aktion hat, aktualisieren Sie die Browserseite für das QnA Maker-Portal.\r\n",
        "\r\n",
        "7. Geben Sie im Abschnitt **Schritt 3** den Namen **Margie's Travel KB** ein.\r\n",
        "8. Geben Sie im Abschnitt **Schritt 4** im Feld **URL** den Wert *https://github.com/MicrosoftLearning/mslearn-ai900/raw/main/data/qna_bot/margies_faq.docx* ein, und klicken Sie auf **+ URL hinzufügen**. Wählen Sie unter **Smalltalk** die Option **Geschäftlich** aus.\r\n",
        "9. Klicken Sie im Abschnitt **Schritt 5** auf **Wissensdatenbank erstellen**.\r\n",
        "10. Warten Sie ungefähr eine Minute, während Ihre Wissensdatenbank erstellt wird. Überprüfen Sie anschließend die Fragen und Antworten, die aus dem Dokument importiert wurden, sowie die vordefinierten Antworten für geschäftlichen Smalltalk.\r\n"
      ],
      "metadata": {}
    },
    {
      "cell_type": "markdown",
      "source": [
        "## Bearbeiten der Wissensdatenbank\r\n",
        "\r\n",
        "Ihre Wissensdatenbank basiert auf den Details aus dem heruntergeladenen Dokument und einigen vordefinierten Antworten. Sie können eigene, benutzerdefinierte Frage-Antwort-Paare hinzufügen.\r\n",
        "\r\n",
        "1. Klicken Sie auf **+ QnA-Paar hinzufügen**.\r\n",
        "2. Geben Sie im Feld **Frage** den Text `Hello` ein. Klicken Sie dann auf **+ Alternative Phrase hinzufügen**, und geben Sie `Hi` ein.\r\n",
        "3. Geben Sie im Feld **Antwort** den Text `Hello` ein.\r\n",
        "\r\n",
        "## Trainieren und Testen der Wissensdatenbank\r\n",
        "\r\n",
        "Nachdem Sie die Wissensdatenbank erstellt haben, können Sie sie im QnA Maker-Portal testen.\r\n",
        "\r\n",
        "1. Klicken Sie oben rechts auf der Seite auf **Speichern und trainieren**, um Ihre Wissensdatenbank zu trainieren. Möglicherweise müssen Sie die Größe Ihres Fensters ändern, um die Schaltfläche sichtbar zu machen.\r\n",
        "2. Schließen Sie das Training ab, und klicken Sie anschließend auf **&larr; Test**, um den Testbereich zu öffnen\r\n",
        "3. Geben Sie im Testbereich ganz unten die Nachricht *Hi* ein. Die Antwort **Hello** sollte zurückgegeben werden.\r\n",
        "4. Geben Sie im Testbereich ganz unten die Nachricht *I want to book a flight* ein. Eine passende Antwort aus den häufig gestellten Fragen sollte zurückgegeben werden.\r\n",
        "5. Testen Sie die Wissensdatenbank, und klicken Sie anschließend auf **&rarr; Test**, um den Testbereich zu schließen.\r\n"
      ],
      "metadata": {}
    },
    {
      "cell_type": "markdown",
      "source": [
        "## Erstellen eines Bots für die Wissensdatenbank\r\n",
        "\r\n",
        "Die Wissensdatenbank stellt einen Back-End-Dienst bereit, den Clientanwendungen verwenden können, um Fragen aus einer Benutzeroberfläche zu beantworten. Bei diesen Clientanwendungen handelt es sich normalerweise um Bots. Um die Wissensdatenbank für einen Bot verfügbar zu machen, müssen Sie sie als Dienst veröffentlichen, der über HTTP erreichbar ist. Anschließend können Sie den Azure Bot Service verwenden, um einen Bot zu erstellen und zu hosten, der die Wissensdatenbank verwendet, um Fragen der Benutzer zu beantworten.\r\n",
        "\r\n",
        "1. Klicken Sie oben auf der QnA Make-Seite auf **Veröffentlichen**. Klicken Sie dann auf der Seite **Margies Travel KB** auf **Veröffentlichen**.\r\n",
        "2. Warten Sie, bis der Dienst bereitgestellt wurde, und klicken Sie dann auf **Bot erstellen**. Daraufhin wird das Azure-Portal in einer neuen Browserregisterkarte geöffnet, und Sie können einen Web App-Bot in Ihrem Azure-Abonnement erstellen.\r\n",
        "3. Erstellen Sie im Azure-Portal einen Web App-Bot mit den folgenden Einstellungen (die meisten Einstellungen werden für Sie vorab ausgefüllt):\r\n",
        "  - **Bot-Handle**: *Ein eindeutiger Name für Ihren Bot*\r\n",
        "  - **Abonnement**: *Ihr Azure-Abonnement*\r\n",
        "  - **Ressourcengruppe**: *Die Ressourcengruppe, die Ihre QnA Maker-Ressource enthält*\r\n",
        "  - **Speicherort**: *Derselbe Speicherort wie Ihr QnA Maker-Dienst*.\r\n",
        "  - **Tarif**: F0\r\n",
        "  - **App-Name**: *Gleicher Wert wie unter **Bot-Handle**. *.azurewebsites.net* wird automatisch angehängt\r\n",
        "  - **SDK-Sprache**: *Wählen Sie entweder C# oder Node.js aus.*\r\n",
        "  - **QnA-Autorisierungsschlüssel**: *Hier sollte automatisch der Authentifizierungsschlüssel für Ihre QnA-Wissensdatenbank eingefügt werden.*\r\n",
        "  - **App Service-Plan/Standort**: *Ein passender Plan und ein Standort sollten automatisch vorausgewählt werden.*\r\n",
        "  - **Application Insights**: Aus\r\n",
        "  - **Microsoft-App-ID und Kennwort** App-ID und Kennwort automatisch erstellen.\r\n",
        "4. Warten Sie, bis Ihr Bot erstellt wurde (das Benachrichtigungssymbol oben rechts in Form einer Glocke wird animiert, während Sie warten). Klicken Sie anschließend in der Benachrichtigung über den Abschluss der Bereitstellung auf **Zu Ressource wechseln** (oder klicken Sie alternativ auf der Startseite auf **Ressourcengruppen**, öffnen Sie die Ressourcengruppe, in der Sie den Web App-Bot erstellt haben, und klicken Sie darauf).\r\n",
        "5. Suchen Sie im linken Bereich Ihres Bots nach **Einstellungen**, klicken Sie auf **In Web Chat testen**, und warten Sie, bis der Bot die Nachricht **Hello and Welcome!** ausgibt. (Die Initialisierung kann einige Sekunden dauern).\r\n",
        "6. Überprüfen Sie in der Testoberfläche für den Chat, ob der Bot die Fragen aus Ihrer Wissensdatenbank wie erwartet beantwortet. Geben Sie beispielsweise *I need to cancel my hotel* ein.\r\n"
      ],
      "metadata": {}
    },
    {
      "cell_type": "markdown",
      "source": [
        "## Zugreifen auf den Bot über einen Kanal\r\n",
        "\r\n",
        "Bots können eingesetzt werden, um den Benutzern eine Schnittstelle über einen oder mehrere *Kanäle* anzubieten. Ein Bot kann beispielsweise Interaktionen über eine Web Chat-Oberfläche, per E-Mail und in Microsoft Teams unterstützen.\r\n",
        "\r\n",
        "1. Suchen Sie im linken Bereich Ihres Bots nach **Einstellungen**, und klicken Sie auf **Kanäle**.\r\n",
        "2. Beachten Sie, dass der Kanal **Webchat** automatisch hinzugefügt wurde, und dass noch weitere Kanäle für häufig verwendete Kommunikationsplattformen verfügbar sind.\r\n",
        "3. Klicken Sie neben dem Kanal **Webchat** auf **Bearbeiten**. Daraufhin wird eine Seite mit den Einstellungen geöffnet, die Sie benötigen, um Ihren Bot in einer Webseite einzubetten. Um Ihren Bot einzubetten, benötigen Sie den angezeigten HTML-Einbettungscode zusammen mit einem der geheimen Schlüssel, die für Ihren Bot generiert wurden.\r\n",
        "4. Kopieren sie den **Einbettungscode**, und fügen Sie ihn anstelle des Kommentars `<!-- EMBED CODE GOES HERE -->` in die folgende Zelle ein.\r\n",
        "5. Klicken Sie für einen beliebigen geheimen Schlüssel auf **Anzeigen**, und kopieren Sie ihn. Fügen Sie ihn anschließend anstelle von `YOUR_SECRET_HERE` in Ihren HTML-Einbettungscode ein.\r\n",
        "6. Ändern Sie den Wert für **min-height** in Ihrem HTML-Code zu **200px** (anstelle des Standardwerts „500px“). Damit stellen Sie sicher, dass die HTML-Oberfläche ohne Scrollen sichtbar ist.\r\n",
        "7. Führen Sie die folgende Zelle aus, indem Sie links neben der Zelle auf die Schaltfläche **Zelle ausführen** (&#9655;) klicken, um den HTML-Code zu rendern.\r\n",
        "8. Testen Sie den Bot in der HTML-Chatoberfläche, indem Sie eine Frage eingeben, zum Beispiel *Who is Margie?* oder *What destinations can I go to?* (Nach der Initialisierung antwortet der Bot unter Umständen mit der Nachricht *Hello and welcome* zusätzlich zur Antwort auf Ihre Frage)."
      ],
      "metadata": {}
    },
    {
      "cell_type": "code",
      "execution_count": null,
      "source": [
        "%%html\r\n",
        "\r\n",
        "<!-- EMBED CODE GOES HERE -->"
      ],
      "outputs": [],
      "metadata": {}
    },
    {
      "cell_type": "markdown",
      "source": [
        "Stellen Sie den Bot auf die Probe. Er kann die Fragen aus den häufig gestellten Fragen vermutlich relativ gut beantworten, hat jedoch Schwierigkeiten mit Fragen, für die er nicht trainiert wurde. Sie können die Wissensdatenbank jederzeit im QnA Maker-Portal verbessern und erneut veröffentlichen.\r\n",
        "\r\n",
        "## Weitere Informationen\r\n",
        "\r\n",
        "- Weitere Informationen zum QnA Maker-Dienst finden Sie in der [QnA Maker-Dokumentation](https://docs.microsoft.com/azure/cognitive-services/qnamaker/).\r\n",
        "- Weitere Informationen zum Microsoft Bot Service finden Sie auf der [Azure Bot Service-Seite](https://azure.microsoft.com/services/bot-service/)."
      ],
      "metadata": {}
    }
  ],
  "metadata": {
    "language_info": {
      "name": "python",
      "version": "3.6.9",
      "mimetype": "text/x-python",
      "codemirror_mode": {
        "name": "ipython",
        "version": 3
      },
      "pygments_lexer": "ipython3",
      "nbconvert_exporter": "python",
      "file_extension": ".py"
    },
    "kernelspec": {
      "name": "python3-azureml",
      "language": "python",
      "display_name": "Python 3.6 - AzureML"
    },
    "kernel_info": {
      "name": "python3-azureml"
    },
    "nteract": {
      "version": "nteract-front-end@1.0.0"
    }
  },
  "nbformat": 4,
  "nbformat_minor": 2
}